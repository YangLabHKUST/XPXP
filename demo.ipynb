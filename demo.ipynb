{
 "cells": [
  {
   "cell_type": "markdown",
   "metadata": {
    "lines_to_next_cell": 0
   },
   "source": [
    "# XPXP\n",
    "The XPXP package for improving polygenic risk score (PRS) prediction by cross-population and cross-phenotype analysis\n",
    "\n",
    "# Installation"
   ]
  },
  {
   "cell_type": "markdown",
   "metadata": {
    "lines_to_next_cell": 0
   },
   "source": [
    "```bash\n",
    "git clone https://github.com/YangLabHKUST/XPXP.git\n",
    "cd XPXP\n",
    "conda env create -f environment.yml\n",
    "conda activate xpxp\n",
    "```"
   ]
  },
  {
   "cell_type": "markdown",
   "metadata": {
    "lines_to_next_cell": 0
   },
   "source": [
    "check the installation status"
   ]
  },
  {
   "cell_type": "markdown",
   "metadata": {},
   "source": [
    "```bash\n",
    "python ./src/XPXP.py -h\n",
    "python ./src/ParaEstimate.py -h\n",
    "```"
   ]
  },
  {
   "cell_type": "markdown",
   "metadata": {},
   "source": [
    "# Quick start (replicate the result of Fig. 2c in the main text)\n",
    "\n",
    "We illustrate the usage of XPXP using the GWAS summary statistics of height from BBJ, UKBB European and GIANT cohorts. For demonstration, we use the easily accessible 1000 Genomes project genotypes as reference panels. The datasets involved in the following example is availabel from [here](https://www.dropbox.com/s/b7g1438pl78c9q9/XPXP_demo.tar.gz?dl=0)\n",
    "\n",
    "## Data preparation\n",
    "\n",
    "Input files of XPXP include:\n",
    "\n",
    "- summay statistics files of the target and auxiliary population\n",
    "- summay statistics names of the target and auxiliary population, population is separated by '+'\n",
    "- reference panel of the target and auxiliary population in plink 1 format\n",
    "- genetic covariance file\n",
    "- environmental covariance file if sample overlap exist\n",
    "- LD blocks file\n",
    "- summay statistics names for incorporating population-specific of phenotype specific large genetic effects\n",
    "\n",
    "The XPXP format GWAS summary statistics file has at least 6 fields:\n",
    "\n",
    "- SNP: SNP rsid\n",
    "- N: sample size\n",
    "- Z: Z-scores\n",
    "- A1: effect allele\n",
    "- A2: other allele. \n",
    "- P: p-value "
   ]
  },
  {
   "cell_type": "markdown",
   "metadata": {
    "lines_to_next_cell": 0
   },
   "source": [
    "e.g. "
   ]
  },
  {
   "cell_type": "markdown",
   "metadata": {
    "lines_to_next_cell": 2
   },
   "source": [
    "```bash\n",
    "$ head ./XPXP_demo/height_BBJ_summary_hm3.txt\n",
    "SNP     N       Z       A1      A2      P\n",
    "rs1048488       159095  0.659462022101568       T       C       0.509599125893493\n",
    "rs3115850       159095  0.658089413463925       C       T       0.510480678080961\n",
    "rs4040617       159095  -0.37360256722158497    G       A       0.708700023669772\n",
    "```"
   ]
  },
  {
   "cell_type": "markdown",
   "metadata": {
    "lines_to_next_cell": 0
   },
   "source": [
    "The genetic covariance file with trait names as index and header:"
   ]
  },
  {
   "cell_type": "markdown",
   "metadata": {
    "lines_to_next_cell": 2
   },
   "source": [
    "```bash\n",
    "$ cat ./XPXP_demo/gcov_height_BBJ.csv\n",
    ",height_BBJ-EAS,height_Wood-EUR,height_UKB-EUR\n",
    "height_BBJ-EAS,0.3894,0.1866552482397845,0.20741027144622678\n",
    "height_Wood-EUR,0.1866552482397845,0.2596,0.2525\n",
    "height_UKB-EUR,0.20741027144622678,0.2525,0.369\n",
    "```"
   ]
  },
  {
   "cell_type": "markdown",
   "metadata": {
    "lines_to_next_cell": 0
   },
   "source": [
    "## Run XPXP to compute SNPs effect size\n",
    "\n",
    "Once the input files are formatted, XPXP will automatically process the datasets, including SNPs overlapping and allele matching.\n",
    "Run XPXP with the following comand"
   ]
  },
  {
   "cell_type": "markdown",
   "metadata": {},
   "source": [
    "```bash\n",
    "$ python [INSTALL PATH]/XPXP/src/XPXP.py \\\n",
    "--save ./XPXP_demo/PM_height_BBJ-GIANT-UKB.csv \\ \n",
    "--gc_file ./XPXP_demo/gcov_height_BBJ.csv \\ \n",
    "--sumst_files ./XPXP_demo/height_BBJ_summary_hm3.txt,./XPXP_demo/height_GIANT_summary_hm3.txt,./XPXP_demo/height_UKB_summary_hm3.txt \\ \n",
    "--sumst_names height_BBJ-EAS+height_Wood-EUR,height_UKB-EUR \\ \n",
    "--ld_block_file ./XPXP_demo/EAS_fourier_ls-all.bed \\\n",
    "--ref_files ./XPXP_demo/1000G.EAS.QC.hm3.ind,./XPXP_demo/1000G.EUR.QC.hm3.ind \\ \n",
    "--fix_effect_traits height_BBJ-EAS\n",
    "```"
   ]
  },
  {
   "cell_type": "markdown",
   "metadata": {
    "lines_to_next_cell": 0
   },
   "source": [
    "XPXP returns the estimated SNPs effect size in ./XPXP_demo/PM_height_BBJ-GIANT-UKB.csv"
   ]
  },
  {
   "cell_type": "markdown",
   "metadata": {},
   "source": [
    "```bash\n",
    "$ head ./XPXP_demo/PM_height_BBJ-GIANT-UKB.csv\n",
    "chr     SNP     bp      A1      A2      height_BBJ-EAS-muxpxp   height_Wood-EUR-muxpxp  height_UKB-EUR-muxpxp\n",
    "1       rs3934834       1005806 T       C       0.001490031305500368    0.0008587749623481179   0.001348694388142856\n",
    "1       rs3766191       1017587 T       C       0.001294311742987717    0.0007056128453579005   0.0011593703907873875\n",
    "1       rs9442372       1018704 A       G       0.001354169642801807    0.0007882917460030307   0.0009947411386104607\n",
    "```"
   ]
  },
  {
   "cell_type": "markdown",
   "metadata": {},
   "source": [
    "where A1 is the effect allele, A2 is the other allele. \\<TraitName-muxpxp\\> is the estimated SNPs effect size of \\<TraitName\\> computed by XPXP. If argument \"--return_LDpredinf\" is given, then XPXP will also output the estimated SNPs effect size computed by LDpred-inf (\\<TraitName-mu\\>) using the GWAS summary statistic of \\<TraitName\\> only, see the exmaple below. "
   ]
  },
  {
   "cell_type": "markdown",
   "metadata": {
    "lines_to_next_cell": 2
   },
   "source": [
    "```bash\n",
    "$ python [INSTALL PATH]/XPXP/src/XPXP.py \\\n",
    "--num_threads 40 \\\n",
    "--save ./XPXP_demo/PM_height_BBJ-GIANT-UKB_AddLDpredinf.csv \\\n",
    "--gc_file ./XPXP_demo/gcov_height_BBJ.csv \\\n",
    "--sumst_files ./XPXP_demo/height_BBJ_summary_hm3.txt,./XPXP_demo/height_GIANT_summary_hm3.txt,./XPXP_demo/height_UKB_summary_hm3.txt \\\n",
    "--sumst_names height_BBJ-EAS+height_Wood-EUR,height_UKB-EUR \\\n",
    "--ld_block_file ./XPXP_demo/EAS_fourier_ls-all.bed \\\n",
    "--ref_files ./XPXP_demo/1000G.EAS.QC.hm3.ind,./XPXP_demo/1000G.EUR.QC.hm3.ind \\\n",
    "--fix_effect_traits height_BBJ-EAS \\\n",
    "--return_LDpredinf\n",
    "\n",
    "$ head ./XPXP_demo/PM_height_BBJ-GIANT-UKB_AddLDpredinf.csv\n",
    "chr     SNP     bp      A1      A2      height_BBJ-EAS-mu       height_BBJ-EAS-muxpxp   height_Wood-EUR-mu      height_Wood-EUR-muxpxp  height_UKB-EUR-mu       height_UKB-EUR-muxpxp\n",
    "1       rs3934834       1005806 T       C       0.0005643129160874588   0.001490031305500368    -6.687588995674362e-05  0.0008587749623481179   0.001128698464435024    0.001348694388142856\n",
    "1       rs3766191       1017587 T       C       0.0005275501273343171   0.001294311742987717    -9.677694792123072e-05  0.0007056128453579005   0.0010440824756778855   0.0011593703907873875\n",
    "1       rs9442372       1018704 A       G       0.0005044304401368068   0.001354169642801807    0.00018283924802650126  0.0007882917460030307   0.0006365824088935744   0.0009947411386104607\n",
    "```"
   ]
  },
  {
   "cell_type": "markdown",
   "metadata": {},
   "source": [
    "## Evaluate the prediction performance using individual-level GWAS data\n",
    "\n",
    "Input files:\n",
    "\n",
    "- ```--geno``` genotype file of testing data (UKBB Chinese, n=1,439), plink1 version\n",
    "- ```--beta``` the estimated SNPs effect size returned by XPXP"
   ]
  },
  {
   "cell_type": "markdown",
   "metadata": {
    "lines_to_next_cell": 0
   },
   "source": [
    "```bash\n",
    "$ python [INSTALL PATH]/XPXP/src/Predict.py \\\n",
    "--save ./XPXP_demo_NotAvailable/predict_ukb_chn.csv \\\n",
    "--geno ./XPXP_demo_NotAvailable/ukb_chn_qc1 \\\n",
    "--beta ./XPXP_demo/PM_height_BBJ-GIANT-UKB.csv\n",
    "```"
   ]
  },
  {
   "cell_type": "markdown",
   "metadata": {
    "lines_to_next_cell": 0
   },
   "source": [
    "The predicted risk scores are returned in ./XPXP_demo_NotAvailable/predict_ukb_chn.csv"
   ]
  },
  {
   "cell_type": "markdown",
   "metadata": {
    "lines_to_next_cell": 0
   },
   "source": [
    "```bash\n",
    "$ head ./XPXP_demo_NotAvailable/predict_ukb_chn.csv\n",
    "FID     IID     height_BBJ-EAS-muxpxp   height_Wood-EUR-muxpxp  height_UKB-EUR-muxpxp\n",
    "1002529 1002529 -0.472046       -1.1332799999999998     -0.8280420000000001\n",
    "1006646 1006646 -0.57514        -0.7420140000000001     -0.48337600000000003\n",
    "1006809 1006809 -0.772656       -0.966025       -0.8342870000000001\n",
    "```"
   ]
  },
  {
   "cell_type": "markdown",
   "metadata": {},
   "source": [
    "where column \\<TraitName-muxpxp\\> is the predicted PRS using the estimated SNPs effect size (\\<TraitName-muxpxp\\>) returned by XPXP\n",
    "\n",
    "However, the individual-level GWAS data of UKBB is not availabel due to the data sharing restriction. We therefore show how to use the height GWAS of UKBB Chinese as validation dataset\n",
    "\n",
    "## Evaluate the prediction performance using GWAS summary statistics\n",
    "\n",
    "We follow [XPASS](https://github.com/YangLabHKUST/XPASS) to use the following equation:\n",
    "\n",
    "<img src=\"https://latex.codecogs.com/svg.image?R^2=corr(y,\\hat{y})^2=\\left(\\frac{cov(y,\\hat{y})}{\\sqrt{var(y)var(\\hat{y})}}\\right)^2=\\left(\\frac{z^T\\tilde{\\mu}/\\sqrt{n}}{\\sqrt{\\tilde{\\mu}^T\\Sigma\\tilde{\\mu}}}\\right)^2,\" title=\"R^2=corr(y,\\hat{y})^2=\\left(\\frac{cov(y,\\hat{y})}{\\sqrt{var(y)var(\\hat{y})}}\\right)^2=\\left(\\frac{z^T\\tilde{\\mu}/\\sqrt{n}}{\\sqrt{\\tilde{\\mu}^T\\Sigma\\tilde{\\mu}}}\\right)^2,\" />\n",
    "\n",
    "where z is the z-score of external summsry statistics, n is its sample size, <img src=\"https://latex.codecogs.com/svg.image?\\tilde{\\mu}\" title=\"\\tilde{\\mu}\" /> is the posterior mean of effect size at the standardized genotype scale (mean 0 and variance 1), <img src=\"https://latex.codecogs.com/svg.image?\\Sigma\" title=\"\\Sigma\" /> is the SNPs correlation matrix computed from a reference panel.\n",
    "\n",
    "Input files:\n",
    "\n",
    "- ```--sumst_file``` GWAS summary statistics of UKBB Chinese height\n",
    "- ```--beta``` the estimated SNPs effect size returned by XPXP\n",
    "- ```--col_name``` specify the column name of SNPs effect size file"
   ]
  },
  {
   "cell_type": "markdown",
   "metadata": {},
   "source": [
    "```bash\n",
    "$ python [INSTALL PATH]/XPXP/src/PredictSS.py \\\n",
    "--ref_file ./XPXP_demo/1000G.EAS.QC.hm3.ind \\\n",
    "--sumst_file ./XPXP_demo/UKB_Chinese_height_GWAS_summary.txt \\\n",
    "--beta ./XPXP_demo/PM_height_BBJ-GIANT-UKB.csv  \\\n",
    "--col_name height_BBJ-EAS-muxpxp\n",
    "\n",
    "Output: R2 for height_BBJ-EAS-muxpxp: 0.13039907941388484\n",
    "# As the LD reference panel only contains 1.3 million SNPs from 377 EAS amples and 417 EUR samples, the result of XPXP would be less accurate than what we reported in the Bioinformatics paper.\n",
    "```"
   ]
  },
  {
   "cell_type": "markdown",
   "metadata": {
    "lines_to_next_cell": 0
   },
   "source": [
    "Compared to XPXP trained on the BBJ and UKBB datasets only:"
   ]
  },
  {
   "cell_type": "markdown",
   "metadata": {
    "lines_to_next_cell": 0
   },
   "source": [
    "```bash\n",
    "$ python [INSTALL PATH]/XPXP/src/XPXP.py \\\n",
    "--num_threads 40 \\\n",
    "--save ./XPXP_demo/PM_height_BBJ-UKB.csv \\\n",
    "--gc_file ./XPXP_demo/gcov_height_BBJ.csv \\\n",
    "--sumst_files ./XPXP_demo/height_BBJ_summary_hm3.txt,./XPXP_demo/height_UKB_summary_hm3.txt \\\n",
    "--sumst_names height_BBJ-EAS+height_UKB-EUR \\\n",
    "--use_snps ./XPXP_demo/snps_overlap.txt \\ # use the same set of SNPs for fairness\n",
    "--ld_block_file ./XPXP_demo/EAS_fourier_ls-all.bed \\\n",
    "--ref_files ./XPXP_demo/1000G.EAS.QC.hm3.ind,./XPXP_demo/1000G.EUR.QC.hm3.ind \\\n",
    "--fix_effect_traits height_BBJ-EAS\n",
    "\n",
    "$ python [INSTALL PATH]/XPXP/src/PredictSS.py \\\n",
    "--ref_file ./XPXP_demo/1000G.EAS.QC.hm3.ind \\\n",
    "--sumst_file ./XPXP_demo/UKB_Chinese_height_GWAS_summary.txt \\\n",
    "--beta ./XPXP_demo/PM_height_BBJ-UKB.csv  \\\n",
    "--col_name height_BBJ-EAS-muxpxp\n",
    "\n",
    "Output: R2 for height_BBJ-EAS-muxpxp: 0.1256874019449264\n",
    "```"
   ]
  },
  {
   "cell_type": "markdown",
   "metadata": {
    "lines_to_next_cell": 0
   },
   "source": [
    "The predicted R2 declined a little bit due to the removing of GIANT training data\n",
    "\n",
    "## Generate genetic and environmental covariance matrix\n",
    "XPXP requires genetic and environmental covariance matrix estimates for computing the posterior mean of SNPs effect size. For parameters within a population (e.g., SNP-heritability, genetic covariance, and environmental covariance for pair of traits with substiantial sample overlap), we apply LD score regression ([LDSC](https://github.com/bulik/ldsc)) to obtain their estimates. For parameters cross two populations (e.g., trans-ancestry genetic covariance), we follow [XPASS](https://github.com/YangLabHKUST/XPASS) to estimate the trans-ancestry genetic covariance using fully LD matrix rather than the LD information from local SNPs utilized in LDSC.\n",
    "\n",
    "Here we provide a helper script (```ParaEstimate.py```, a wrapper of LDSC and XPASS) to conveniently obtain the input parameters for  ```XPXP.py```. \n",
    "First of all, we need install the LDSC v1.0.1 using conda:"
   ]
  },
  {
   "cell_type": "markdown",
   "metadata": {
    "lines_to_next_cell": 0
   },
   "source": [
    "```bash\n",
    "git clone https://github.com/bulik/ldsc.git\n",
    "cd ldsc\n",
    "conda env create -f environment.yml\n",
    "# no need to run 'conda activate ldsc'\n",
    "```"
   ]
  },
  {
   "cell_type": "markdown",
   "metadata": {
    "lines_to_next_cell": 0
   },
   "source": [
    "please note that we <ins>**do not need to activate the ldsc environment**</ins>\n",
    "\n",
    "then we run ```ParaEstimate.py``` in ```xpxp``` environment as following:"
   ]
  },
  {
   "cell_type": "markdown",
   "metadata": {
    "lines_to_next_cell": 0
   },
   "source": [
    "```bash\n",
    "$ python [INSTALL PATH]/XPXP/src/ParaEstimate.py \\\n",
    "--save_dir ./XPXP_demo/params \\\n",
    "--ldsc_path [LDSC PATH] \\\n",
    "--ldsc_files ./XPXP_demo/eas_ldscores/,./XPXP_demo/eur_ldscores/ \\\n",
    "--merge_alleles ./XPXP_demo/w_hm3.snplist \\\n",
    "--sumst_files ./XPXP_demo/height_BBJ_summary_hm3.txt,./XPXP_demo/height_GIANT_summary_hm3.txt,./XPXP_demo/height_UKB_summary_hm3.txt \\\n",
    "--sumst_names height_BBJ-EAS+height_Wood-EUR,height_UKB-EUR \\\n",
    "--ld_block_file ./XPXP_demo/EAS_fourier_ls-all.bed \\\n",
    "--ref_files ./XPXP_demo/1000G.EAS.QC.hm3.ind,./XPXP_demo/1000G.EUR.QC.hm3.ind \\\n",
    "--covar_files ./XPXP_demo/1000G.EAS.QC.hm3.ind.pc5.txt,./XPXP_demo/1000G.EUR.QC.hm3.ind.pc20.txt\n",
    "```"
   ]
  },
  {
   "cell_type": "markdown",
   "metadata": {
    "lines_to_next_cell": 0
   },
   "source": [
    "Inputs:\n",
    "- ```--save_dir``` output dir path\n",
    "- ```--ldsc_path``` LDSC install path\n",
    "- ```--ldsc_files``` LDscore files\n",
    "- ```--merge_alleles``` file used for matching alleles\n",
    "- ```--sumst_files``` summary statisitc files, separated by comma\n",
    "- ```--sumst_names``` summary statisitc names, separated by comma, the order is corresponds to the --sumst_files, different populations are separated by \"+\", .e.g. Target+Auxiliary'\n",
    "- ```--ref_files``` LD reference files path, plink1 file version, seperated by comma\n",
    "- ```--covar_files``` LD reference covariate files path, seperated by comma\n",
    "- ```--ld_block_file``` LD block file\n",
    "\n",
    "Outputs:\n",
    "- Genetic covariance file"
   ]
  },
  {
   "cell_type": "markdown",
   "metadata": {
    "lines_to_next_cell": 0
   },
   "source": [
    "```bash\n",
    "$ cat ./XPXP_demo/params/gcov.csv\n",
    ",height_BBJ-EAS,height_Wood-EUR,height_UKB-EUR\n",
    "height_BBJ-EAS,0.3894,0.1940299242269646,0.21439033369134217\n",
    "height_Wood-EUR,0.1940299242269646,0.2711,0.2606\n",
    "height_UKB-EUR,0.21439033369134217,0.2606,0.369\n",
    "```"
   ]
  },
  {
   "cell_type": "markdown",
   "metadata": {
    "lines_to_next_cell": 0
   },
   "source": [
    "- Genetic correlation file"
   ]
  },
  {
   "cell_type": "markdown",
   "metadata": {
    "lines_to_next_cell": 0
   },
   "source": [
    "```bash\n",
    "$ cat ./XPXP_demo/params/gcorr.csv\n",
    ",height_BBJ-EAS,height_Wood-EUR,height_UKB-EUR\n",
    "height_BBJ-EAS,0.0,0.597181,0.56558\n",
    "height_Wood-EUR,0.597181,0.0,0.8239416739808213\n",
    "height_UKB-EUR,0.56558,0.8239416739808213,0.0\n",
    "```"
   ]
  },
  {
   "cell_type": "markdown",
   "metadata": {
    "lines_to_next_cell": 0
   },
   "source": [
    "- Environmental covariance file"
   ]
  },
  {
   "cell_type": "markdown",
   "metadata": {
    "lines_to_next_cell": 2
   },
   "source": [
    "```bash\n",
    "$ cat ./XPXP_demo/params/ecov.csv\n",
    ",height_BBJ-EAS,height_Wood-EUR,height_UKB-EUR\n",
    "height_BBJ-EAS,0.6106,0.0,0.0\n",
    "height_Wood-EUR,0.0,0.7289,0.08950000000000002\n",
    "height_UKB-EUR,0.0,0.08950000000000002,0.631\n",
    "```"
   ]
  },
  {
   "cell_type": "markdown",
   "metadata": {},
   "source": [
    "# Development\n",
    "\n",
    "The XPXP package is developed by Jiashun Xiao (jxiaoae@connect.ust.hk).\n",
    "\n",
    "# Contact information\n",
    "\n",
    "Please contact Jiashun Xiao (jxiaoae@connect.ust.hk), Mingxuan Cai (mcaiad@ust.hk) or Prof. Can Yang (macyang@ust.hk) if any enquiry.\n",
    "\n",
    "\n",
    "\n",
    "\n",
    "\n",
    "\n",
    "\n",
    "\n",
    "\n",
    "\n",
    "\n"
   ]
  }
 ],
 "metadata": {
  "jupytext": {
   "cell_metadata_filter": "-all",
   "main_language": "bash",
   "notebook_metadata_filter": "-all"
  },
  "kernelspec": {
   "display_name": "Python 3",
   "language": "python",
   "name": "python3"
  },
  "language_info": {
   "codemirror_mode": {
    "name": "ipython",
    "version": 3
   },
   "file_extension": ".py",
   "mimetype": "text/x-python",
   "name": "python",
   "nbconvert_exporter": "python",
   "pygments_lexer": "ipython3",
   "version": "3.6.9"
  }
 },
 "nbformat": 4,
 "nbformat_minor": 4
}

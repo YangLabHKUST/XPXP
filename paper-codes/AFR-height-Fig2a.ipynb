{
 "cells": [
  {
   "cell_type": "code",
   "execution_count": 1,
   "metadata": {},
   "outputs": [],
   "source": [
    "import pandas as pd\n",
    "import os\n",
    "import numpy as np\n",
    "import seaborn as sns\n",
    "import matplotlib.style as style \n",
    "import matplotlib.pyplot as plt\n",
    "import pylab\n",
    "import matplotlib\n",
    "import copy\n",
    "import glob as gb\n",
    "import scipy.stats as st\n",
    "import time\n",
    "from pandas_plink import read_plink1_bin\n",
    "from scipy.stats.stats import pearsonr\n",
    "import sys\n",
    "sys.path.append('../XPXP/src')\n",
    "from utils import *"
   ]
  },
  {
   "cell_type": "markdown",
   "metadata": {},
   "source": [
    "## XPXP"
   ]
  },
  {
   "cell_type": "code",
   "execution_count": null,
   "metadata": {},
   "outputs": [],
   "source": [
    "com = 'python ../XPXP/src/XPXP.py \\\n",
    "--num_threads 42 \\\n",
    "--save /home/share/xiaojs/xpxp/African/pm/{0}_PM_{1}k.csv \\\n",
    "--gc_file /home/share/xiaojs/xpxp/African/trans_heri/{0}_AFR-{0}_UKB-{1}k.csv \\\n",
    "--sumst_files /home/share/xiaojs/xpxp/African/afr_bolt/afr_height_ldsc_format.txt,/home/share/xiaojs/xpxp/African/ukb_subsample_bolt/ukb_height_{1}k_ldsc_format.txt \\\n",
    "--sumst_names AFR_{0}+EUR_{0} \\\n",
    "--ref_files /home/share/UKB/ld_ref_2k/ukb_AFR_ldpred_ref_2000_noMHC,/home/share/UKB/ld_ref_2k/height_ukb_ldpred_ref_2000_noMHC \\\n",
    "--ld_block_file /home/share/xiaojs/database/1kg_AFR/AFR_fourier_ls-all.bed \\\n",
    "--return_LDpredinf \\n\\n'\n",
    "with open('/home/share/xiaojs/xpxp/African/run_xpxp.sh','w') as f:\n",
    "    f.write('set -ex;\\n\\n')\n",
    "    for i in [20,50,100,200,400]:\n",
    "        f.write(com.format('height',i))"
   ]
  },
  {
   "cell_type": "markdown",
   "metadata": {},
   "source": [
    "## SMTpred"
   ]
  },
  {
   "cell_type": "code",
   "execution_count": null,
   "metadata": {},
   "outputs": [],
   "source": [
    "com = 'conda run -n ldsc python /home/share/xiaojs/software/smtpred/smtpred.py \\\n",
    "        --h2file {} \\\n",
    "        --rgfile {} \\\n",
    "        --nfile {} \\\n",
    "        --scorefiles {} \\\n",
    "        --out {}/smtpred/Height-wMT-SBLUP-{}k \\\n",
    "        --alltraits \\\n",
    "        --blup\\n\\n'\n",
    "\n",
    "EAS_pheno = ['AFR_height']\n",
    "EUR_height = ['EUR_height']\n",
    "out_path = '/home/share/xiaojs/xpxp/African/xpxp'\n",
    "with open('/home/share/xiaojs/xpxp/African/smtpred/run_smtpred.sh','w') as shell:\n",
    "    shell.write('set -ex;\\n\\n')\n",
    "    for j in [20,50,100,200,400]:\n",
    "        cov_df = pd.read_csv('/home/share/xiaojs/xpxp/African/trans_heri/{0}_AFR-{0}_UKB-{1}k.csv'.format('height',j),index_col=0)\n",
    "        with open(out_path+'/smtpred/ns-{}.txt'.format(j), 'w') as f:\n",
    "            f.write('height_{0}_Afr_ldpredinf'.format(j)+'\\t'+str(7352)+'\\n')\n",
    "            f.write('height_{0}_Eur_ldpredinf'.format(j)+'\\t'+str(j*1000)+'\\n')\n",
    "            f.close()\n",
    "        with open(out_path+'/smtpred/h2s-{}.txt'.format(j), 'w') as f:\n",
    "            f.write('height_{0}_Afr_ldpredinf'.format(j)+'\\t'+str(cov_df.loc['AFR_height','AFR_height'])+'\\n')\n",
    "            f.write('height_{0}_Eur_ldpredinf'.format(j)+'\\t'+str(cov_df.loc['EUR_height','EUR_height'])+'\\n')\n",
    "            f.close()\n",
    "        with open(out_path+'/smtpred/rgs-{}.txt'.format(j), 'w') as f:\n",
    "            f.write('height_{0}_Afr_ldpredinf'.format(j)+'\\t'+'height_{0}_Eur_ldpredinf'.format(j)+'\\t'+str(cov_df.values[0,1]/(cov_df.values[0,0]*cov_df.values[1,1])**.5)+'\\n')\n",
    "            f.close()\n",
    "        scorefiles = '/home/share/xiaojs/xpxp/African/predict/height_{0}_Afr_ldpredinf.profile /home/share/xiaojs/xpxp/African/predict/height_{0}_Eur_ldpredinf.profile'.format(j)\n",
    "        com_j = com.format(out_path+'/smtpred/h2s-{}.txt'.format(j),\n",
    "                  out_path+'/smtpred/rgs-{}.txt'.format(j),\n",
    "                  out_path+'/smtpred/ns-{}.txt'.format(j),\n",
    "                  scorefiles,out_path,j)\n",
    "        shell.write(com_j)"
   ]
  },
  {
   "cell_type": "code",
   "execution_count": null,
   "metadata": {},
   "outputs": [],
   "source": []
  },
  {
   "cell_type": "markdown",
   "metadata": {},
   "source": [
    "## P+T"
   ]
  },
  {
   "cell_type": "code",
   "execution_count": null,
   "metadata": {},
   "outputs": [],
   "source": [
    "pt_coms = [] \n",
    "for i in [20,50,100,200,400]:\n",
    "    pt_coms.append('Rscript ukb-subsample.R \\\n",
    "           /home/share/xiaojs/xpxp/African/ukb_subsample_bolt/ukb_height_{0}k_bolt.stats \\\n",
    "           /home/share/xiaojs/xpxp/African/P+T/ukb_height_{0}k.PTpred.txt'.format(i))\n",
    "output = pool.map(worker,pt_coms)"
   ]
  },
  {
   "cell_type": "code",
   "execution_count": null,
   "metadata": {},
   "outputs": [],
   "source": []
  },
  {
   "cell_type": "markdown",
   "metadata": {},
   "source": [
    "## PRS-CSx"
   ]
  },
  {
   "cell_type": "code",
   "execution_count": null,
   "metadata": {},
   "outputs": [],
   "source": [
    "reformat_com = 'python ~/cross-popu/xpxp/reformat_ss_PRScsx.py --inp {} \\n'\n",
    "for i in [20,50,100,200,400]:\n",
    "    os.system(reformat_com.format('/home/share/xiaojs/xpxp/African/ukb_subsample_bolt/ukb_height_{0}k_ldsc_format.txt'.format(i)))"
   ]
  },
  {
   "cell_type": "code",
   "execution_count": null,
   "metadata": {},
   "outputs": [],
   "source": [
    "prscs_com1 = 'python /home/jxiaoae/xgpu-scratch/software/PRScsx/PRScsx.py \\\n",
    "--ref_dir=/home/jxiaoae/xgpu-scratch/xiaojs/xpxp/ref_data \\\n",
    "--bim_prefix=/home/jxiaoae/xgpu-scratch/xiaojs/xpxp/afr/ukb_AFR_ldpred_ref_2000_noMHC \\\n",
    "--sst_file=/home/jxiaoae/xgpu-scratch/xiaojs/xpxp/afr/afr_height_ldsc_format.txt.prscsx_format.txt \\\n",
    "--n_gwas=7422 \\\n",
    "--pop=AFR  \\\n",
    "--n_iter=1000 \\\n",
    "--n_burnin=500 \\\n",
    "--phi=1e-2 \\\n",
    "--out_dir=/home/jxiaoae/xgpu-scratch/xiaojs/xpxp/afr/prscsx \\\n",
    "--out_name=PRScsx \\n\\n'\n",
    "\n",
    "prscs_com2 = 'python /home/jxiaoae/xgpu-scratch/software/PRScsx/PRScsx.py \\\n",
    "--ref_dir=/home/jxiaoae/xgpu-scratch/xiaojs/xpxp/ref_data \\\n",
    "--bim_prefix=/home/jxiaoae/xgpu-scratch/xiaojs/xpxp/afr/ukb_AFR_ldpred_ref_2000_noMHC \\\n",
    "--sst_file=/home/jxiaoae/xgpu-scratch/xiaojs/xpxp/afr/afr_height_ldsc_format.txt.prscsx_format.txt,/home/jxiaoae/xgpu-scratch/xiaojs/xpxp/afr/ukb_height_{0}k_ldsc_format.txt.prscsx_format.txt \\\n",
    "--n_gwas=7422,{1} \\\n",
    "--pop=AFR,EUR  \\\n",
    "--n_iter=1000 \\\n",
    "--n_burnin=500 \\\n",
    "--phi=1e-2 \\\n",
    "--out_dir=/home/jxiaoae/xgpu-scratch/xiaojs/xpxp/afr/prscsx \\\n",
    "--out_name=PRScsx_{0}k \\n\\n'"
   ]
  },
  {
   "cell_type": "code",
   "execution_count": null,
   "metadata": {},
   "outputs": [],
   "source": [
    "job_name = 'afr'\n",
    "with open('shell_real_data/run_prscsx_{}.sh'.format(job_name),'w') as f:\n",
    "    f.write(runsh_cpu.format(job_name,prscs_com1))\n",
    "    f.close()\n",
    "os.system('chmod 744 /home/jxiaoae/xpxp/shell_real_data/run_prscsx_{}.sh'.format(job_name))\n",
    "os.system('sbatch /home/jxiaoae/xpxp/shell_real_data/run_prscsx_{0}.sh'.format(job_name))\n",
    "\n",
    "for i in [20,50,100,200,400]:\n",
    "    job_name = 'ukb_{}k'.format(i)\n",
    "    with open('shell_real_data/run_prscsx_{}.sh'.format(job_name),'w') as f:\n",
    "        f.write(runsh_cpu.format(job_name,prscs_com2.format(i,int(i*1000))))\n",
    "        f.close()\n",
    "    os.system('chmod 744 /home/jxiaoae/xpxp/shell_real_data/run_prscsx_{}.sh'.format(job_name))\n",
    "    os.system('sbatch /home/jxiaoae/xpxp/shell_real_data/run_prscsx_{0}.sh'.format(job_name))"
   ]
  },
  {
   "cell_type": "code",
   "execution_count": null,
   "metadata": {},
   "outputs": [],
   "source": []
  },
  {
   "cell_type": "markdown",
   "metadata": {},
   "source": [
    "## LDpred2"
   ]
  },
  {
   "cell_type": "code",
   "execution_count": null,
   "metadata": {},
   "outputs": [],
   "source": [
    "reformat_com = 'python ~/cross-popu/xpxp/reformat_ss_ldpred2_real.py --inp {} \\n'\n",
    "os.system(reformat_com.format('/home/share/xiaojs/xpxp/African/afr_bolt/afr_height_ldsc_format.txt'))\n",
    "for i in [20,50,100,200,400]:\n",
    "    os.system(reformat_com.format('/home/share/xiaojs/xpxp/African/ukb_subsample_bolt/ukb_height_{0}k_ldsc_format.txt'.format(i)))"
   ]
  },
  {
   "cell_type": "code",
   "execution_count": null,
   "metadata": {},
   "outputs": [],
   "source": [
    "docker run --net=host -it --memory=\"400g\" \\\n",
    "-v /home/share/xiaojs/xpxp/African/afr_bolt:/home/share/xiaojs/xpxp/African/afr_bolt \\\n",
    "-v /home/share/xiaojs/xpxp/African/ukb_subsample_bolt:/home/share/xiaojs/xpxp/African/ukb_subsample_bolt \\\n",
    "-v /home/share/UKB/1kg_ref_3M:/home/share/UKB/1kg_ref_3M    \\\n",
    "-v /home/share/UKB/1kg_ref/maf_0.05:/home/share/UKB/1kg_ref/maf_0.05    \\\n",
    "-v /home/jxiaoae/cross-popu/xpxp/ldpred2.R:/ldpred2.R \\\n",
    "-v /home/share/xiaojs/cross-trait/xpxp/ldpred2:/ldpred2 \\\n",
    "lifebitai/bigsnpr:1.0 /bin/bash\n",
    "                    \n",
    "export OPENBLAS_NUM_THREADS=1\n",
    "export R_MAX_MEM_SIZE=400000\n",
    "\n",
    "library(bigsnpr)\n",
    "snp_readBed(\"1000G.AFR.QC.hm3.ind.bed\")\n",
    "snp_readBed(\"1000G.AFR.QC.3M.bed\")\n",
    "snp_readBed(\"1000G.EAS.QC.3M.bed\")\n",
    "snp_readBed(\"1000G.EUR.QC.3M.bed\")"
   ]
  },
  {
   "cell_type": "code",
   "execution_count": null,
   "metadata": {},
   "outputs": [],
   "source": [
    "ldpred2_com1 = 'Rscript /ldpred2.R \\\n",
    "/home/share/UKB/1kg_ref/maf_0.05/1000G.AFR.QC.hm3.ind.rds \\\n",
    "/home/share/xiaojs/xpxp/African/afr_bolt/afr_height_ldsc_format.txt.ldpred2_format.txt \\\n",
    "/ldpred2/afr_ukbsubsample/LDpred2-beta-auto-afr.csv  \\n'\n",
    "ldpred2_com2 = 'Rscript /ldpred2.R \\\n",
    "/home/share/UKB/1kg_ref_3M/1000G.EUR.QC.3M.rds \\\n",
    "/home/share/xiaojs/xpxp/African/ukb_subsample_bolt/ukb_height_{0}k_ldsc_format.txt.ldpred2_format.txt \\\n",
    "/ldpred2/afr_ukbsubsample/LDpred2-beta-auto-eur-{0}k.csv  \\n'\n",
    "with open('/home/share/xiaojs/cross-trait/xpxp/ldpred2/afr_ukbsubsample/ldpred2_run.sh', 'w') as f:\n",
    "    f.write('#!/bin/bash \\n\\n')\n",
    "    f.write('set -o pipefail\\nset -exu \\n\\n')\n",
    "    f.write('dt=$(date \"+%d/%m/%Y %H:%M:%S\")\\necho \"$dt\"\\n')\n",
    "    f.write(ldpred2_com1)\n",
    "    for i in [50,100,200,400]:\n",
    "        f.write('dt=$(date \"+%d/%m/%Y %H:%M:%S\")\\necho \"$dt\"\\n')\n",
    "        f.write(ldpred2_com2.format(i))"
   ]
  },
  {
   "cell_type": "code",
   "execution_count": null,
   "metadata": {},
   "outputs": [],
   "source": []
  },
  {
   "cell_type": "markdown",
   "metadata": {},
   "source": [
    "## MultiPRS"
   ]
  },
  {
   "cell_type": "code",
   "execution_count": null,
   "metadata": {},
   "outputs": [],
   "source": [
    "from sklearn.linear_model import LinearRegression\n",
    "from sklearn.model_selection import cross_val_predict\n",
    "from sklearn.model_selection import train_test_split\n",
    "\n",
    "def LDpred2_score_mean(rep_path):\n",
    "    score = np.array([pd.read_csv(rep_path+'{}.profile'.format(i),delim_whitespace=True)['SCORESUM'].values for i in range(1,6)]).mean(axis=0)\n",
    "    tmp = pd.read_csv(rep_path+'{}.profile'.format(1),delim_whitespace=True)\n",
    "    tmp['SCORESUM'] = score\n",
    "    return tmp\n",
    "\n",
    "def multiPRS(X,y):\n",
    "    clf = LinearRegression()\n",
    "    scores = cross_val_score(clf, X, y, cv=5, scoring='r2')\n",
    "    return scores.mean()"
   ]
  },
  {
   "cell_type": "code",
   "execution_count": null,
   "metadata": {},
   "outputs": [],
   "source": [
    "true_pheno = pd.read_csv('/home/share/xiaojs/xpxp/African/combine_ipm_ukb/afr_pheno_test.txt',sep='\\t')\n",
    "y = true_pheno['height_residual'].values\n",
    "res_multi = []\n",
    "pred_height = LDpred2_score_mean('../xpxp/ldpred2/afr_ukbsubsample/predict/LDpred2_AFR_pred_')\n",
    "res_multi.append(pearsonr(pred_height['SCORESUM'].values,true_pheno['height_residual'].values)[0]**2)\n",
    "for i in [20,50,100,200,400]:\n",
    "    pred_height_ukb = LDpred2_score_mean('../xpxp/ldpred2/afr_ukbsubsample/predict/LDpred2_EUR_{0}k_pred_'.format(i))\n",
    "    X = np.array([pred_height['SCORESUM'],pred_height_ukb['SCORESUM']]).T\n",
    "    res_multi.append(multiPRS(X,y))"
   ]
  },
  {
   "cell_type": "code",
   "execution_count": null,
   "metadata": {},
   "outputs": [],
   "source": []
  },
  {
   "cell_type": "code",
   "execution_count": null,
   "metadata": {},
   "outputs": [],
   "source": []
  }
 ],
 "metadata": {
  "kernelspec": {
   "display_name": "Python 3",
   "language": "python",
   "name": "python3"
  },
  "language_info": {
   "codemirror_mode": {
    "name": "ipython",
    "version": 3
   },
   "file_extension": ".py",
   "mimetype": "text/x-python",
   "name": "python",
   "nbconvert_exporter": "python",
   "pygments_lexer": "ipython3",
   "version": "3.6.9"
  }
 },
 "nbformat": 4,
 "nbformat_minor": 4
}

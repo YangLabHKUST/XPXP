{
 "cells": [
  {
   "cell_type": "code",
   "execution_count": 1,
   "metadata": {},
   "outputs": [],
   "source": [
    "import pandas as pd\n",
    "import os\n",
    "import numpy as np\n",
    "import seaborn as sns\n",
    "import matplotlib.style as style \n",
    "import matplotlib.pyplot as plt\n",
    "import pylab\n",
    "import matplotlib\n",
    "import copy\n",
    "import glob as gb\n",
    "import scipy.stats as st\n",
    "import time\n",
    "from pandas_plink import read_plink1_bin\n",
    "from scipy.stats.stats import pearsonr\n",
    "import sys\n",
    "sys.path.append('../XPXP/src')\n",
    "from utils import *"
   ]
  },
  {
   "cell_type": "markdown",
   "metadata": {},
   "source": [
    "## XPXP"
   ]
  },
  {
   "cell_type": "code",
   "execution_count": null,
   "metadata": {},
   "outputs": [],
   "source": [
    "# AFR+GIANT\n",
    "python ../XPXP/src/XPXP.py     \\\n",
    "--fix_effect_trait height_AFR-EAS     \\\n",
    "--num_threads 40     \\\n",
    "--save ./afr-height/MT-PM-height_AFR-BG.csv     \\\n",
    "--gc_file ./afr-height/genetic_corr/gcov_height_AFR.csv     \\\n",
    "--sumst_files ./afr-height/afr_height_ldsc_format.txt,./afr-height/height_Wood_ldscformat.3MImp.txt     \\\n",
    "--sumst_ss height_AFR-EAS+height_Wood-EUR     \\\n",
    "--use_snp ./afr-height/used_SNPs_height_AFR.txt     \\\n",
    "--ref_files /home/share/UKB/ld_ref_2k/ukb_AFR_ldpred_ref_2000_noMHC,/home/share/UKB/ld_ref_2k/height_ukb_ldpred_ref_2000_noMHC     \\\n",
    "--ld_block_file /home/share/xiaojs/database/1kg_AFR/AFR_fourier_lsall.bed\n",
    "\n",
    "# AFR+UKB\n",
    "python ../XPXP/src/XPXP.py     \\\n",
    "--fix_effect_trait height_AFR-EAS     \\\n",
    "--num_threads 40     \\\n",
    "--save ./afr-height/MT-PM-height_AFR-BU.csv     \\\n",
    "--gc_file ./afr-height/genetic_corr/gcov_height_AFR.csv     \\\n",
    "--sumst_files ./afr-height/afr_height_ldsc_format.txt,./afr-height/ukb_height_summary_format.txt     \\\n",
    "--sumst_ss height_AFR-EAS+height_UKB-EUR     \\\n",
    "--use_snp ./afr-height/used_SNPs_height_AFR.txt     \\\n",
    "--ref_files /home/share/UKB/ld_ref_2k/ukb_AFR_ldpred_ref_2000_noMHC,/home/share/UKB/ld_ref_2k/height_ukb_ldpred_ref_2000_noMHC     \\\n",
    "--ld_block_file /home/share/xiaojs/database/1kg_AFR/AFR_fourier_ls-all.bed\n",
    "\n",
    "# AFR+GIANT+UKB\n",
    "python ../XPXP/src/XPXP.py     \\\n",
    "--fix_effect_trait height_AFR-EAS     \\\n",
    "--num_threads 40     \\\n",
    "--return_LDpredinf     \\\n",
    "--save ./afr-height/MT-PM-height_AFR.csv     \\\n",
    "--gc_file ./afr-height/genetic_corr/gcov_height_AFR.csv     \\\n",
    "--sumst_files ./afr-height/afr_height_ldsc_format.txt,./afr-height/height_Wood_ldscformat.3MImp.txt,./afr-height/ukb_height_summary_format.txt \\\n",
    "--sumst_ss height_AFR-EAS+height_Wood-EUR,height_UKB-EUR     \\\n",
    "--use_snp ./afr-height/used_SNPs_height_AFR.txt     \\\n",
    "--ref_files /home/share/UKB/ld_ref_2k/ukb_AFR_ldpred_ref_2000_noMHC,/home/share/UKB/ld_ref_2k/height_ukb_ldpred_ref_2000_noMHC     \\\n",
    "--ld_block_file /home/share/xiaojs/database/1kg_AFR/AFR_fourier_ls-all.bed\n",
    "\n",
    "# AFR+GIANT+UKB+BBJ\n",
    "python ../XPXP/src/XPXP.py     \\\n",
    "--fix_effect_trait height_AFR-EAS  \\\n",
    "--num_threads 40  \\\n",
    "--return_LDpredinf  \\\n",
    "--save ./afr-height/MT-PM-height_AFR-3popu.csv  \\\n",
    "--gc_file ./afr-height/genetic_corr/gcov_height_AFR_3popu.csv  \\\n",
    "--sumst_files ./afr-height/afr_height_ldsc_format.txt,./afr-height/height_Wood_ldscformat.3MImp.txt,./afr-height/ukb_height_summary_format.txt,./afr-height/height_BBJ_summary_format_ldsc.3MImp.txt  \\\n",
    "--sumst_names height_AFR-EAS+height_Wood-EUR,height_UKB-EUR+height_BBJ-EAS  \\\n",
    "--use_snp ./afr-height/used_SNPs_height_AFR.txt  \\\n",
    "--ref_files /home/share/UKB/ld_ref_2k/ukb_AFR_ldpred_ref_2000_noMHC,/home/share/UKB/ld_ref_2k/height_ukb_ldpred_ref_2000_noMHC,/home/share/UKB/ld_ref_2k/height_affy_ldpred_ref_2000_noMHC  \\\n",
    "--ld_block_file /home/share/xiaojs/database/1kg_AFR/AFR_fourier_ls-all.bed"
   ]
  },
  {
   "cell_type": "code",
   "execution_count": null,
   "metadata": {},
   "outputs": [],
   "source": []
  },
  {
   "cell_type": "markdown",
   "metadata": {},
   "source": [
    "## SMTpred"
   ]
  },
  {
   "cell_type": "code",
   "execution_count": null,
   "metadata": {},
   "outputs": [],
   "source": [
    "# AFR+GIANT\n",
    "conda run -n ldsc python /home/share/xiaojs/software/smtpred/smtpred.py         \\\n",
    "--h2file ./afr-height/smtpred_all/h2s-height_AFR.txt        \\ \n",
    "--rgfile ./afr-height/smtpred_all/rgs-height_AFR.txt         \\\n",
    "--nfile ./afr-height/smtpred_all/ns-height_AFR.txt         \\\n",
    "--scorefiles ./afr-height/predict/height_AFR-EAS.profile ./afr-height/predict/height_Wood-EUR.profile         \\\n",
    "--out ./afr-height/smtpred_all/predict/height_AFR-wMT-SBLUP-BG         \\\n",
    "--alltraits         \\\n",
    "--blup\n",
    "\n",
    "# AFR+UKB\n",
    "conda run -n ldsc python /home/share/xiaojs/software/smtpred/smtpred.py         \\\n",
    "--h2file ./afr-height/smtpred_all/h2s-height_AFR.txt         \\\n",
    "--rgfile ./afr-height/smtpred_all/rgs-height_AFR.txt         \\\n",
    "--nfile ./afr-height/smtpred_all/ns-height_AFR.txt         \\\n",
    "--scorefiles ./afr-height/predict/height_AFR-EAS.profile ./afr-height/predict/height_UKB-EUR.profile         \\\n",
    "--out ./afr-height/smtpred_all/predict/height_AFR-wMT-SBLUP-BU         \\\n",
    "--alltraits         \\\n",
    "--blup\n",
    "\n",
    "# AFR+GIANT+UKB\n",
    "conda run -n ldsc python /home/share/xiaojs/software/smtpred/smtpred.py         \\\n",
    "--h2file ./afr-height/smtpred_all/h2s-height_AFR.txt         \\\n",
    "--rgfile ./afr-height/smtpred_all/rgs-height_AFR.txt         \\\n",
    "--nfile ./afr-height/smtpred_all/ns-height_AFR.txt         \\\n",
    "--scorefiles ./afr-height/predict/height_AFR-EAS.profile ./afr-height/predict/height_Wood-EUR.profile ./afr-height/predict/height_UKB-EUR.profile         \\\n",
    "--out ./afr-height/smtpred_all/predict/height_AFR-wMT-SBLUP         \\\n",
    "--alltraits         \\\n",
    "--blup\n",
    "\n",
    "# AFR+GIANT+UKB+BBJ\n",
    "conda run -n ldsc python /home/share/xiaojs/software/smtpred/smtpred.py         \\\n",
    "--h2file ./afr-height/smtpred_all/h2s-height_AFR.txt         \\\n",
    "--rgfile ./afr-height/smtpred_all/rgs-height_AFR.txt         \\\n",
    "--nfile ./afr-height/smtpred_all/ns-height_AFR.txt         \\\n",
    "--scorefiles ./afr-height/predict/height_AFR-EAS.profile ./afr-height/predict/height_Wood-EUR.profile ./afr-height/predict/height_UKB-EUR.profile ./afr-height/predict/height_BBJ-EAS.profile         \\\n",
    "--out ./afr-height/smtpred_all/predict/height_AFR-wMT-SBLUP-3popu         \\\n",
    "--alltraits         \\\n",
    "--blup"
   ]
  },
  {
   "cell_type": "code",
   "execution_count": null,
   "metadata": {},
   "outputs": [],
   "source": []
  },
  {
   "cell_type": "code",
   "execution_count": null,
   "metadata": {},
   "outputs": [],
   "source": []
  },
  {
   "cell_type": "markdown",
   "metadata": {},
   "source": [
    "## MultiPRS"
   ]
  },
  {
   "cell_type": "code",
   "execution_count": null,
   "metadata": {},
   "outputs": [],
   "source": [
    "from sklearn.linear_model import LinearRegression\n",
    "from sklearn.model_selection import cross_val_predict\n",
    "from sklearn.model_selection import train_test_split\n",
    "\n",
    "def LDpred2_score_mean(rep_path):\n",
    "    score = np.array([pd.read_csv(rep_path+'{}.profile'.format(i),delim_whitespace=True)['SCORESUM'].values for i in range(1,6)]).mean(axis=0)\n",
    "    tmp = pd.read_csv(rep_path+'{}.profile'.format(1),delim_whitespace=True)\n",
    "    tmp['SCORESUM'] = score\n",
    "    return tmp\n",
    "\n",
    "def multiPRS(X,y):\n",
    "    clf = LinearRegression()\n",
    "    scores = cross_val_score(clf, X, y, cv=5, scoring='r2')\n",
    "    return scores.mean()"
   ]
  },
  {
   "cell_type": "code",
   "execution_count": null,
   "metadata": {},
   "outputs": [],
   "source": [
    "# AFR+GIANT\n",
    "pheno = pd.read_csv('/home/share/xiaojs/xpa/African/combine_ipm_ukb/afr_pheno_test.txt',sep='\\t')\n",
    "tmp = LDpred2_score_mean('./ldpred2/afr_ukbsubsample/predict/LDpred2_{}_pred_'.format('AFR'))\n",
    "tmp2 = LDpred2_score_mean('./ldpred2/height/predict_afr/LDpred2_{}_pred_'.format('GIANT'))\n",
    "X = np.array([tmp['SCORESUM'],tmp2['SCORESUM']]).T\n",
    "y = pheno['height_residual'].values\n",
    "multiPRS(X,y)\n",
    "\n",
    "# AFR+UKB\n",
    "tmp = LDpred2_score_mean('./ldpred2/afr_ukbsubsample/predict/LDpred2_{}_pred_'.format('AFR'))\n",
    "tmp2 = LDpred2_score_mean('./ldpred2/afr_ukbsubsample/predict/LDpred2_{}_pred_'.format('UKB'))\n",
    "X = np.array([tmp['SCORESUM'],tmp2['SCORESUM']]).T\n",
    "y = pheno['height_residual'].values\n",
    "multiPRS(X,y)\n",
    "\n",
    "# AFR+GIANT+UKB\n",
    "tmp = LDpred2_score_mean('./ldpred2/afr_ukbsubsample/predict/LDpred2_{}_pred_'.format('AFR'))\n",
    "tmp2 = LDpred2_score_mean('./ldpred2/afr_ukbsubsample/predict/LDpred2_{}_pred_'.format('UKB'))\n",
    "tmp3 = LDpred2_score_mean('./ldpred2/height/predict_afr/LDpred2_{}_pred_'.format('GIANT'))\n",
    "X = np.array([tmp['SCORESUM'],tmp2['SCORESUM'],tmp3['SCORESUM']]).T\n",
    "y = pheno['height_residual'].values\n",
    "multiPRS(X,y)\n",
    "\n",
    "\n",
    "# AFR+GIANT+UKB+BBJ\n",
    "tmp = LDpred2_score_mean('./ldpred2/afr_ukbsubsample/predict/LDpred2_{}_pred_'.format('AFR'))\n",
    "tmp3 = LDpred2_score_mean('./ldpred2/height/predict_afr/LDpred2_{}_pred_'.format('GIANT'))\n",
    "tmp2 = LDpred2_score_mean('./ldpred2/afr_ukbsubsample/predict/LDpred2_{}_pred_'.format('UKB'))\n",
    "tmp4 = LDpred2_score_mean('./ldpred2/height/predict_afr/LDpred2_{}_pred_'.format('BBJ'))\n",
    "X = np.array([tmp['SCORESUM'],tmp3['SCORESUM'],tmp2['SCORESUM'],tmp4['SCORESUM']]).T\n",
    "y = pheno['height_residual'].values\n",
    "multiPRS(X,y)"
   ]
  },
  {
   "cell_type": "code",
   "execution_count": null,
   "metadata": {},
   "outputs": [],
   "source": []
  },
  {
   "cell_type": "code",
   "execution_count": null,
   "metadata": {},
   "outputs": [],
   "source": []
  },
  {
   "cell_type": "markdown",
   "metadata": {},
   "source": [
    "## PRS-CSx"
   ]
  },
  {
   "cell_type": "code",
   "execution_count": null,
   "metadata": {},
   "outputs": [],
   "source": [
    "# perform meta-analysis for UKB and GIANT datasets using MTAG\n",
    "python ./mtag.py \\\n",
    "--stream-stdout  \\\n",
    "--n-min 0.0 \\\n",
    "--sumstats GIANT_height_MTAGformat.txt,ukb_height_MTAGformat.txt \\\n",
    "--incld-ambig-snps  \\\n",
    "--out ./Height_GIANT_UKB_MTAG_out.txt"
   ]
  },
  {
   "cell_type": "code",
   "execution_count": null,
   "metadata": {},
   "outputs": [],
   "source": [
    "prscs_com = 'python /home/jxiaoae/xgpu-scratch/software/PRScsx/PRScsx.py \\\n",
    "--ref_dir=/home/jxiaoae/xgpu-scratch/xiaojs/xpxp/ref_data \\\n",
    "--bim_prefix=/home/jxiaoae/xgpu-scratch/xiaojs/xpxp/afr/ukb_AFR_ldpred_ref_2000_noMHC \\\n",
    "--sst_file=/home/jxiaoae/xgpu-scratch/xiaojs/xpxp/afr/afr_height_ldsc_format.txt.prscsx_format.txt,/home/jxiaoae/xgpu-scratch/xiaojs/xpxp/height/{} \\\n",
    "--n_gwas=7422,{} \\\n",
    "--pop=AFR,EUR  \\\n",
    "--n_iter=1000 \\\n",
    "--n_burnin=500 \\\n",
    "--phi=1e-2 \\\n",
    "--out_dir=/home/jxiaoae/xgpu-scratch/xiaojs/xpxp/height/res \\\n",
    "--out_name=PRScsx_AFR_{} \\n'\n",
    "\n",
    "files = ['height_Wood_ldscformat.3MImp.txt.prscsx_format.txt',\n",
    "         'height_UKB_summary_format_ldsc.3MImp.txt.prscsx_format.txt',\n",
    "         'Height_GIANT_UKB_MTAG_out_trait_1.prscsx_format.txt']\n",
    "ns = [252682,458303,621269]\n",
    "names = ['GIANT','UKB','GIANT_UKB']\n",
    "for i,file in enumerate(files):\n",
    "    with open('shell_real_data/run_prscsx_{}.sh'.format(names[i]),'w') as f:\n",
    "        f.write(runsh_cpu.format(names[i],prscs_com.format(file,ns[i],names[i])))\n",
    "        f.close()\n",
    "    os.system('chmod 744 /home/jxiaoae/xpxp/shell_real_data/run_prscsx_{}.sh'.format(names[i]))\n",
    "    os.system('sbatch /home/jxiaoae/xpxp/shell_real_data/run_prscsx_{0}.sh'.format(names[i]))"
   ]
  },
  {
   "cell_type": "code",
   "execution_count": null,
   "metadata": {},
   "outputs": [],
   "source": [
    "prscs_com = 'python /home/jxiaoae/xgpu-scratch/software/PRScsx/PRScsx.py \\\n",
    "--ref_dir=/home/jxiaoae/xgpu-scratch/xiaojs/xpxp/ref_data \\\n",
    "--bim_prefix=/home/jxiaoae/xgpu-scratch/xiaojs/xpxp/afr/ukb_AFR_ldpred_ref_2000_noMHC \\\n",
    "--sst_file=/home/jxiaoae/xgpu-scratch/xiaojs/xpxp/afr/afr_height_ldsc_format.txt.prscsx_format.txt,/home/jxiaoae/xgpu-scratch/xiaojs/xpxp/height/Height_GIANT_UKB_MTAG_out_trait_1.prscsx_format.txt,/home/jxiaoae/xgpu-scratch/xiaojs/xpxp/height/height_BBJ_summary_format_ldsc.3MImp.txt.prscsx_format.txt \\\n",
    "--n_gwas=7422,621269,159095 \\\n",
    "--pop=AFR,EUR,EAS  \\\n",
    "--n_iter=1000 \\\n",
    "--n_burnin=500 \\\n",
    "--phi=1e-2 \\\n",
    "--out_dir=/home/jxiaoae/xgpu-scratch/xiaojs/xpxp/height/res \\\n",
    "--out_name=PRScsx_AFR_GIANT_UKB_BBJ \\n'\n",
    "job_name = 'GIANT_UKB_BBJ'\n",
    "with open('shell_real_data/run_prscsx_{}.sh'.format(job_name),'w') as f:\n",
    "    f.write(runsh_cpu.format(job_name,prscs_com))\n",
    "    f.close()\n",
    "os.system('chmod 744 /home/jxiaoae/xpxp/shell_real_data/run_prscsx_{}.sh'.format(job_name))\n",
    "os.system('sbatch /home/jxiaoae/xpxp/shell_real_data/run_prscsx_{0}.sh'.format(job_name))"
   ]
  },
  {
   "cell_type": "code",
   "execution_count": null,
   "metadata": {},
   "outputs": [],
   "source": []
  },
  {
   "cell_type": "markdown",
   "metadata": {},
   "source": [
    "## Estimation of standard error with Jacknife "
   ]
  },
  {
   "cell_type": "code",
   "execution_count": null,
   "metadata": {},
   "outputs": [],
   "source": [
    "def jackknife_sd(a,b):\n",
    "    # a: true phenotype\n",
    "    # b: predicted phenotype\n",
    "    data = []\n",
    "    for i in range(a.shape[0]):\n",
    "        data.append(pearsonr(np.hstack((a[:i],a[i+1:])),np.hstack((b[:i],b[i+1:])))[0]**2)\n",
    "    data = np.array(data)\n",
    "    n = a.shape[0]\n",
    "    return data.mean(),(((data-data.mean())**2).sum()*(n-1)/n)**.5"
   ]
  }
 ],
 "metadata": {
  "kernelspec": {
   "display_name": "Python 3",
   "language": "python",
   "name": "python3"
  },
  "language_info": {
   "codemirror_mode": {
    "name": "ipython",
    "version": 3
   },
   "file_extension": ".py",
   "mimetype": "text/x-python",
   "name": "python",
   "nbconvert_exporter": "python",
   "pygments_lexer": "ipython3",
   "version": "3.6.9"
  }
 },
 "nbformat": 4,
 "nbformat_minor": 4
}
